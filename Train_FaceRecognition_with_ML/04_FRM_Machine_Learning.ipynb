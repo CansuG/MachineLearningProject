{
 "cells": [
  {
   "cell_type": "code",
   "execution_count": 1,
   "id": "f26667b7",
   "metadata": {},
   "outputs": [],
   "source": [
    "import numpy as np\n",
    "import pandas as pd\n",
    "\n",
    "#\n",
    "from sklearn.model_selection import train_test_split\n",
    "from sklearn.svm import SVC\n",
    "from sklearn.model_selection import GridSearchCV\n",
    "from sklearn import metrics"
   ]
  },
  {
   "cell_type": "code",
   "execution_count": 3,
   "id": "406d8fcf",
   "metadata": {},
   "outputs": [
    {
     "data": {
      "text/plain": [
       "['arr_0', 'arr_1']"
      ]
     },
     "execution_count": 3,
     "metadata": {},
     "output_type": "execute_result"
    }
   ],
   "source": [
    "# load numoy array\n",
    "data = np.load('./data/data_pca_50_target.npz')\n",
    "data.files"
   ]
  },
  {
   "cell_type": "code",
   "execution_count": 4,
   "id": "bc23f099",
   "metadata": {},
   "outputs": [],
   "source": [
    "data.allow_pickle = True"
   ]
  },
  {
   "cell_type": "code",
   "execution_count": 5,
   "id": "7dd922b1",
   "metadata": {},
   "outputs": [],
   "source": [
    "X = data['arr_0'] # pca data with 50 components\n",
    "y = data['arr_1'] # target or dependent variable"
   ]
  },
  {
   "cell_type": "code",
   "execution_count": 6,
   "id": "5b1ee0f9",
   "metadata": {},
   "outputs": [
    {
     "data": {
      "text/plain": [
       "((4320, 50), (4320,))"
      ]
     },
     "execution_count": 6,
     "metadata": {},
     "output_type": "execute_result"
    }
   ],
   "source": [
    "X.shape, y.shape"
   ]
  },
  {
   "cell_type": "markdown",
   "id": "47cd28a8",
   "metadata": {},
   "source": [
    "## split the data into train and test"
   ]
  },
  {
   "cell_type": "code",
   "execution_count": 7,
   "id": "64e979b1",
   "metadata": {},
   "outputs": [
    {
     "name": "stdout",
     "output_type": "stream",
     "text": [
      "(3456, 50) (864, 50) (3456,) (864,)\n"
     ]
    }
   ],
   "source": [
    "x_train, x_test, y_train, y_test = train_test_split(X,y, test_size=0.2, stratify=y)\n",
    "\n",
    "print(x_train.shape, x_test.shape, y_train.shape, y_test.shape)"
   ]
  },
  {
   "cell_type": "markdown",
   "id": "b96eb08d",
   "metadata": {},
   "source": [
    "### training machine learning model"
   ]
  },
  {
   "cell_type": "code",
   "execution_count": 9,
   "id": "9198b29b",
   "metadata": {},
   "outputs": [],
   "source": [
    "model_svc = SVC(probability=True)\n",
    "\n",
    "param_grid = {'C': [0.5,1,10,20,30,50],\n",
    "             'kernel':['rbf', 'poly'],\n",
    "             'gamma': [0.1,0.05,0.01,0.001,0.002,0.005],\n",
    "             'coef0':[0.1]}"
   ]
  },
  {
   "cell_type": "code",
   "execution_count": 10,
   "id": "da0317f9",
   "metadata": {},
   "outputs": [],
   "source": [
    "model_grid = GridSearchCV(model_svc, param_grid = param_grid, scoring='accuracy', cv=3, verbose=2)"
   ]
  },
  {
   "cell_type": "code",
   "execution_count": 12,
   "id": "0ce59629",
   "metadata": {},
   "outputs": [
    {
     "name": "stdout",
     "output_type": "stream",
     "text": [
      "Fitting 3 folds for each of 72 candidates, totalling 216 fits\n",
      "[CV] END ............C=0.5, coef0=0.1, gamma=0.1, kernel=rbf; total time=   1.7s\n",
      "[CV] END ............C=0.5, coef0=0.1, gamma=0.1, kernel=rbf; total time=   1.7s\n",
      "[CV] END ............C=0.5, coef0=0.1, gamma=0.1, kernel=rbf; total time=   1.7s\n",
      "[CV] END ...........C=0.5, coef0=0.1, gamma=0.1, kernel=poly; total time=   1.0s\n",
      "[CV] END ...........C=0.5, coef0=0.1, gamma=0.1, kernel=poly; total time=   1.0s\n",
      "[CV] END ...........C=0.5, coef0=0.1, gamma=0.1, kernel=poly; total time=   1.0s\n",
      "[CV] END ...........C=0.5, coef0=0.1, gamma=0.05, kernel=rbf; total time=   1.5s\n",
      "[CV] END ...........C=0.5, coef0=0.1, gamma=0.05, kernel=rbf; total time=   1.5s\n",
      "[CV] END ...........C=0.5, coef0=0.1, gamma=0.05, kernel=rbf; total time=   1.5s\n",
      "[CV] END ..........C=0.5, coef0=0.1, gamma=0.05, kernel=poly; total time=   1.0s\n",
      "[CV] END ..........C=0.5, coef0=0.1, gamma=0.05, kernel=poly; total time=   1.0s\n",
      "[CV] END ..........C=0.5, coef0=0.1, gamma=0.05, kernel=poly; total time=   1.0s\n",
      "[CV] END ...........C=0.5, coef0=0.1, gamma=0.01, kernel=rbf; total time=   1.2s\n",
      "[CV] END ...........C=0.5, coef0=0.1, gamma=0.01, kernel=rbf; total time=   1.2s\n",
      "[CV] END ...........C=0.5, coef0=0.1, gamma=0.01, kernel=rbf; total time=   1.2s\n",
      "[CV] END ..........C=0.5, coef0=0.1, gamma=0.01, kernel=poly; total time=   0.9s\n",
      "[CV] END ..........C=0.5, coef0=0.1, gamma=0.01, kernel=poly; total time=   0.9s\n",
      "[CV] END ..........C=0.5, coef0=0.1, gamma=0.01, kernel=poly; total time=   0.9s\n",
      "[CV] END ..........C=0.5, coef0=0.1, gamma=0.001, kernel=rbf; total time=   1.4s\n",
      "[CV] END ..........C=0.5, coef0=0.1, gamma=0.001, kernel=rbf; total time=   1.4s\n",
      "[CV] END ..........C=0.5, coef0=0.1, gamma=0.001, kernel=rbf; total time=   1.4s\n",
      "[CV] END .........C=0.5, coef0=0.1, gamma=0.001, kernel=poly; total time=   0.8s\n",
      "[CV] END .........C=0.5, coef0=0.1, gamma=0.001, kernel=poly; total time=   0.9s\n",
      "[CV] END .........C=0.5, coef0=0.1, gamma=0.001, kernel=poly; total time=   0.8s\n",
      "[CV] END ..........C=0.5, coef0=0.1, gamma=0.002, kernel=rbf; total time=   1.3s\n",
      "[CV] END ..........C=0.5, coef0=0.1, gamma=0.002, kernel=rbf; total time=   1.3s\n",
      "[CV] END ..........C=0.5, coef0=0.1, gamma=0.002, kernel=rbf; total time=   1.3s\n",
      "[CV] END .........C=0.5, coef0=0.1, gamma=0.002, kernel=poly; total time=   0.8s\n",
      "[CV] END .........C=0.5, coef0=0.1, gamma=0.002, kernel=poly; total time=   0.8s\n",
      "[CV] END .........C=0.5, coef0=0.1, gamma=0.002, kernel=poly; total time=   0.8s\n",
      "[CV] END ..........C=0.5, coef0=0.1, gamma=0.005, kernel=rbf; total time=   1.2s\n",
      "[CV] END ..........C=0.5, coef0=0.1, gamma=0.005, kernel=rbf; total time=   1.2s\n",
      "[CV] END ..........C=0.5, coef0=0.1, gamma=0.005, kernel=rbf; total time=   1.2s\n",
      "[CV] END .........C=0.5, coef0=0.1, gamma=0.005, kernel=poly; total time=   0.8s\n",
      "[CV] END .........C=0.5, coef0=0.1, gamma=0.005, kernel=poly; total time=   0.9s\n",
      "[CV] END .........C=0.5, coef0=0.1, gamma=0.005, kernel=poly; total time=   0.9s\n",
      "[CV] END ..............C=1, coef0=0.1, gamma=0.1, kernel=rbf; total time=   1.8s\n",
      "[CV] END ..............C=1, coef0=0.1, gamma=0.1, kernel=rbf; total time=   1.7s\n",
      "[CV] END ..............C=1, coef0=0.1, gamma=0.1, kernel=rbf; total time=   1.8s\n",
      "[CV] END .............C=1, coef0=0.1, gamma=0.1, kernel=poly; total time=   0.9s\n",
      "[CV] END .............C=1, coef0=0.1, gamma=0.1, kernel=poly; total time=   1.0s\n",
      "[CV] END .............C=1, coef0=0.1, gamma=0.1, kernel=poly; total time=   1.0s\n",
      "[CV] END .............C=1, coef0=0.1, gamma=0.05, kernel=rbf; total time=   1.6s\n",
      "[CV] END .............C=1, coef0=0.1, gamma=0.05, kernel=rbf; total time=   1.6s\n",
      "[CV] END .............C=1, coef0=0.1, gamma=0.05, kernel=rbf; total time=   1.6s\n",
      "[CV] END ............C=1, coef0=0.1, gamma=0.05, kernel=poly; total time=   1.0s\n",
      "[CV] END ............C=1, coef0=0.1, gamma=0.05, kernel=poly; total time=   1.0s\n",
      "[CV] END ............C=1, coef0=0.1, gamma=0.05, kernel=poly; total time=   1.0s\n",
      "[CV] END .............C=1, coef0=0.1, gamma=0.01, kernel=rbf; total time=   1.1s\n",
      "[CV] END .............C=1, coef0=0.1, gamma=0.01, kernel=rbf; total time=   1.1s\n",
      "[CV] END .............C=1, coef0=0.1, gamma=0.01, kernel=rbf; total time=   1.1s\n",
      "[CV] END ............C=1, coef0=0.1, gamma=0.01, kernel=poly; total time=   0.9s\n",
      "[CV] END ............C=1, coef0=0.1, gamma=0.01, kernel=poly; total time=   0.9s\n",
      "[CV] END ............C=1, coef0=0.1, gamma=0.01, kernel=poly; total time=   0.9s\n",
      "[CV] END ............C=1, coef0=0.1, gamma=0.001, kernel=rbf; total time=   1.2s\n",
      "[CV] END ............C=1, coef0=0.1, gamma=0.001, kernel=rbf; total time=   1.3s\n",
      "[CV] END ............C=1, coef0=0.1, gamma=0.001, kernel=rbf; total time=   1.3s\n",
      "[CV] END ...........C=1, coef0=0.1, gamma=0.001, kernel=poly; total time=   0.8s\n",
      "[CV] END ...........C=1, coef0=0.1, gamma=0.001, kernel=poly; total time=   0.8s\n",
      "[CV] END ...........C=1, coef0=0.1, gamma=0.001, kernel=poly; total time=   0.8s\n",
      "[CV] END ............C=1, coef0=0.1, gamma=0.002, kernel=rbf; total time=   1.1s\n",
      "[CV] END ............C=1, coef0=0.1, gamma=0.002, kernel=rbf; total time=   1.2s\n",
      "[CV] END ............C=1, coef0=0.1, gamma=0.002, kernel=rbf; total time=   1.1s\n",
      "[CV] END ...........C=1, coef0=0.1, gamma=0.002, kernel=poly; total time=   0.8s\n",
      "[CV] END ...........C=1, coef0=0.1, gamma=0.002, kernel=poly; total time=   0.8s\n",
      "[CV] END ...........C=1, coef0=0.1, gamma=0.002, kernel=poly; total time=   0.8s\n",
      "[CV] END ............C=1, coef0=0.1, gamma=0.005, kernel=rbf; total time=   1.1s\n",
      "[CV] END ............C=1, coef0=0.1, gamma=0.005, kernel=rbf; total time=   1.2s\n",
      "[CV] END ............C=1, coef0=0.1, gamma=0.005, kernel=rbf; total time=   1.2s\n",
      "[CV] END ...........C=1, coef0=0.1, gamma=0.005, kernel=poly; total time=   0.9s\n",
      "[CV] END ...........C=1, coef0=0.1, gamma=0.005, kernel=poly; total time=   0.9s\n",
      "[CV] END ...........C=1, coef0=0.1, gamma=0.005, kernel=poly; total time=   0.9s\n",
      "[CV] END .............C=10, coef0=0.1, gamma=0.1, kernel=rbf; total time=   1.7s\n",
      "[CV] END .............C=10, coef0=0.1, gamma=0.1, kernel=rbf; total time=   1.7s\n",
      "[CV] END .............C=10, coef0=0.1, gamma=0.1, kernel=rbf; total time=   1.7s\n",
      "[CV] END ............C=10, coef0=0.1, gamma=0.1, kernel=poly; total time=   1.0s\n",
      "[CV] END ............C=10, coef0=0.1, gamma=0.1, kernel=poly; total time=   0.9s\n",
      "[CV] END ............C=10, coef0=0.1, gamma=0.1, kernel=poly; total time=   0.9s\n",
      "[CV] END ............C=10, coef0=0.1, gamma=0.05, kernel=rbf; total time=   1.6s\n",
      "[CV] END ............C=10, coef0=0.1, gamma=0.05, kernel=rbf; total time=   1.6s\n",
      "[CV] END ............C=10, coef0=0.1, gamma=0.05, kernel=rbf; total time=   1.6s\n",
      "[CV] END ...........C=10, coef0=0.1, gamma=0.05, kernel=poly; total time=   1.0s\n",
      "[CV] END ...........C=10, coef0=0.1, gamma=0.05, kernel=poly; total time=   0.9s\n",
      "[CV] END ...........C=10, coef0=0.1, gamma=0.05, kernel=poly; total time=   0.9s\n",
      "[CV] END ............C=10, coef0=0.1, gamma=0.01, kernel=rbf; total time=   1.2s\n",
      "[CV] END ............C=10, coef0=0.1, gamma=0.01, kernel=rbf; total time=   1.3s\n",
      "[CV] END ............C=10, coef0=0.1, gamma=0.01, kernel=rbf; total time=   1.3s\n",
      "[CV] END ...........C=10, coef0=0.1, gamma=0.01, kernel=poly; total time=   0.8s\n",
      "[CV] END ...........C=10, coef0=0.1, gamma=0.01, kernel=poly; total time=   0.8s\n",
      "[CV] END ...........C=10, coef0=0.1, gamma=0.01, kernel=poly; total time=   0.8s\n",
      "[CV] END ...........C=10, coef0=0.1, gamma=0.001, kernel=rbf; total time=   1.0s\n",
      "[CV] END ...........C=10, coef0=0.1, gamma=0.001, kernel=rbf; total time=   1.0s\n",
      "[CV] END ...........C=10, coef0=0.1, gamma=0.001, kernel=rbf; total time=   1.0s\n",
      "[CV] END ..........C=10, coef0=0.1, gamma=0.001, kernel=poly; total time=   0.8s\n",
      "[CV] END ..........C=10, coef0=0.1, gamma=0.001, kernel=poly; total time=   0.8s\n",
      "[CV] END ..........C=10, coef0=0.1, gamma=0.001, kernel=poly; total time=   0.8s\n",
      "[CV] END ...........C=10, coef0=0.1, gamma=0.002, kernel=rbf; total time=   1.1s\n",
      "[CV] END ...........C=10, coef0=0.1, gamma=0.002, kernel=rbf; total time=   1.1s\n",
      "[CV] END ...........C=10, coef0=0.1, gamma=0.002, kernel=rbf; total time=   1.1s\n",
      "[CV] END ..........C=10, coef0=0.1, gamma=0.002, kernel=poly; total time=   0.8s\n",
      "[CV] END ..........C=10, coef0=0.1, gamma=0.002, kernel=poly; total time=   0.8s\n"
     ]
    },
    {
     "name": "stdout",
     "output_type": "stream",
     "text": [
      "[CV] END ..........C=10, coef0=0.1, gamma=0.002, kernel=poly; total time=   0.8s\n",
      "[CV] END ...........C=10, coef0=0.1, gamma=0.005, kernel=rbf; total time=   1.2s\n",
      "[CV] END ...........C=10, coef0=0.1, gamma=0.005, kernel=rbf; total time=   1.2s\n",
      "[CV] END ...........C=10, coef0=0.1, gamma=0.005, kernel=rbf; total time=   1.2s\n",
      "[CV] END ..........C=10, coef0=0.1, gamma=0.005, kernel=poly; total time=   0.8s\n",
      "[CV] END ..........C=10, coef0=0.1, gamma=0.005, kernel=poly; total time=   0.8s\n",
      "[CV] END ..........C=10, coef0=0.1, gamma=0.005, kernel=poly; total time=   0.8s\n",
      "[CV] END .............C=20, coef0=0.1, gamma=0.1, kernel=rbf; total time=   1.7s\n",
      "[CV] END .............C=20, coef0=0.1, gamma=0.1, kernel=rbf; total time=   1.7s\n",
      "[CV] END .............C=20, coef0=0.1, gamma=0.1, kernel=rbf; total time=   1.7s\n",
      "[CV] END ............C=20, coef0=0.1, gamma=0.1, kernel=poly; total time=   1.0s\n",
      "[CV] END ............C=20, coef0=0.1, gamma=0.1, kernel=poly; total time=   1.0s\n",
      "[CV] END ............C=20, coef0=0.1, gamma=0.1, kernel=poly; total time=   1.0s\n",
      "[CV] END ............C=20, coef0=0.1, gamma=0.05, kernel=rbf; total time=   1.7s\n",
      "[CV] END ............C=20, coef0=0.1, gamma=0.05, kernel=rbf; total time=   1.6s\n",
      "[CV] END ............C=20, coef0=0.1, gamma=0.05, kernel=rbf; total time=   1.6s\n",
      "[CV] END ...........C=20, coef0=0.1, gamma=0.05, kernel=poly; total time=   0.9s\n",
      "[CV] END ...........C=20, coef0=0.1, gamma=0.05, kernel=poly; total time=   1.0s\n",
      "[CV] END ...........C=20, coef0=0.1, gamma=0.05, kernel=poly; total time=   0.9s\n",
      "[CV] END ............C=20, coef0=0.1, gamma=0.01, kernel=rbf; total time=   1.6s\n",
      "[CV] END ............C=20, coef0=0.1, gamma=0.01, kernel=rbf; total time=   1.6s\n",
      "[CV] END ............C=20, coef0=0.1, gamma=0.01, kernel=rbf; total time=   1.6s\n",
      "[CV] END ...........C=20, coef0=0.1, gamma=0.01, kernel=poly; total time=   0.9s\n",
      "[CV] END ...........C=20, coef0=0.1, gamma=0.01, kernel=poly; total time=   0.9s\n",
      "[CV] END ...........C=20, coef0=0.1, gamma=0.01, kernel=poly; total time=   0.9s\n",
      "[CV] END ...........C=20, coef0=0.1, gamma=0.001, kernel=rbf; total time=   1.1s\n",
      "[CV] END ...........C=20, coef0=0.1, gamma=0.001, kernel=rbf; total time=   1.1s\n",
      "[CV] END ...........C=20, coef0=0.1, gamma=0.001, kernel=rbf; total time=   1.1s\n",
      "[CV] END ..........C=20, coef0=0.1, gamma=0.001, kernel=poly; total time=   0.8s\n",
      "[CV] END ..........C=20, coef0=0.1, gamma=0.001, kernel=poly; total time=   0.8s\n",
      "[CV] END ..........C=20, coef0=0.1, gamma=0.001, kernel=poly; total time=   0.8s\n",
      "[CV] END ...........C=20, coef0=0.1, gamma=0.002, kernel=rbf; total time=   1.1s\n",
      "[CV] END ...........C=20, coef0=0.1, gamma=0.002, kernel=rbf; total time=   1.1s\n",
      "[CV] END ...........C=20, coef0=0.1, gamma=0.002, kernel=rbf; total time=   1.2s\n",
      "[CV] END ..........C=20, coef0=0.1, gamma=0.002, kernel=poly; total time=   0.7s\n",
      "[CV] END ..........C=20, coef0=0.1, gamma=0.002, kernel=poly; total time=   0.8s\n",
      "[CV] END ..........C=20, coef0=0.1, gamma=0.002, kernel=poly; total time=   0.8s\n",
      "[CV] END ...........C=20, coef0=0.1, gamma=0.005, kernel=rbf; total time=   1.3s\n",
      "[CV] END ...........C=20, coef0=0.1, gamma=0.005, kernel=rbf; total time=   1.3s\n",
      "[CV] END ...........C=20, coef0=0.1, gamma=0.005, kernel=rbf; total time=   1.3s\n",
      "[CV] END ..........C=20, coef0=0.1, gamma=0.005, kernel=poly; total time=   0.8s\n",
      "[CV] END ..........C=20, coef0=0.1, gamma=0.005, kernel=poly; total time=   0.7s\n",
      "[CV] END ..........C=20, coef0=0.1, gamma=0.005, kernel=poly; total time=   0.7s\n",
      "[CV] END .............C=30, coef0=0.1, gamma=0.1, kernel=rbf; total time=   1.7s\n",
      "[CV] END .............C=30, coef0=0.1, gamma=0.1, kernel=rbf; total time=   1.7s\n",
      "[CV] END .............C=30, coef0=0.1, gamma=0.1, kernel=rbf; total time=   1.7s\n",
      "[CV] END ............C=30, coef0=0.1, gamma=0.1, kernel=poly; total time=   1.0s\n",
      "[CV] END ............C=30, coef0=0.1, gamma=0.1, kernel=poly; total time=   1.0s\n",
      "[CV] END ............C=30, coef0=0.1, gamma=0.1, kernel=poly; total time=   1.0s\n",
      "[CV] END ............C=30, coef0=0.1, gamma=0.05, kernel=rbf; total time=   1.6s\n",
      "[CV] END ............C=30, coef0=0.1, gamma=0.05, kernel=rbf; total time=   1.7s\n",
      "[CV] END ............C=30, coef0=0.1, gamma=0.05, kernel=rbf; total time=   1.6s\n",
      "[CV] END ...........C=30, coef0=0.1, gamma=0.05, kernel=poly; total time=   1.0s\n",
      "[CV] END ...........C=30, coef0=0.1, gamma=0.05, kernel=poly; total time=   1.0s\n",
      "[CV] END ...........C=30, coef0=0.1, gamma=0.05, kernel=poly; total time=   1.0s\n",
      "[CV] END ............C=30, coef0=0.1, gamma=0.01, kernel=rbf; total time=   1.6s\n",
      "[CV] END ............C=30, coef0=0.1, gamma=0.01, kernel=rbf; total time=   1.7s\n",
      "[CV] END ............C=30, coef0=0.1, gamma=0.01, kernel=rbf; total time=   1.6s\n",
      "[CV] END ...........C=30, coef0=0.1, gamma=0.01, kernel=poly; total time=   0.9s\n",
      "[CV] END ...........C=30, coef0=0.1, gamma=0.01, kernel=poly; total time=   0.9s\n",
      "[CV] END ...........C=30, coef0=0.1, gamma=0.01, kernel=poly; total time=   0.9s\n",
      "[CV] END ...........C=30, coef0=0.1, gamma=0.001, kernel=rbf; total time=   1.1s\n",
      "[CV] END ...........C=30, coef0=0.1, gamma=0.001, kernel=rbf; total time=   1.1s\n",
      "[CV] END ...........C=30, coef0=0.1, gamma=0.001, kernel=rbf; total time=   1.1s\n",
      "[CV] END ..........C=30, coef0=0.1, gamma=0.001, kernel=poly; total time=   0.8s\n",
      "[CV] END ..........C=30, coef0=0.1, gamma=0.001, kernel=poly; total time=   0.7s\n",
      "[CV] END ..........C=30, coef0=0.1, gamma=0.001, kernel=poly; total time=   0.8s\n",
      "[CV] END ...........C=30, coef0=0.1, gamma=0.002, kernel=rbf; total time=   1.2s\n",
      "[CV] END ...........C=30, coef0=0.1, gamma=0.002, kernel=rbf; total time=   1.2s\n",
      "[CV] END ...........C=30, coef0=0.1, gamma=0.002, kernel=rbf; total time=   1.2s\n",
      "[CV] END ..........C=30, coef0=0.1, gamma=0.002, kernel=poly; total time=   0.7s\n",
      "[CV] END ..........C=30, coef0=0.1, gamma=0.002, kernel=poly; total time=   0.7s\n",
      "[CV] END ..........C=30, coef0=0.1, gamma=0.002, kernel=poly; total time=   0.7s\n",
      "[CV] END ...........C=30, coef0=0.1, gamma=0.005, kernel=rbf; total time=   1.4s\n",
      "[CV] END ...........C=30, coef0=0.1, gamma=0.005, kernel=rbf; total time=   1.5s\n",
      "[CV] END ...........C=30, coef0=0.1, gamma=0.005, kernel=rbf; total time=   1.5s\n",
      "[CV] END ..........C=30, coef0=0.1, gamma=0.005, kernel=poly; total time=   0.7s\n",
      "[CV] END ..........C=30, coef0=0.1, gamma=0.005, kernel=poly; total time=   0.7s\n",
      "[CV] END ..........C=30, coef0=0.1, gamma=0.005, kernel=poly; total time=   0.8s\n",
      "[CV] END .............C=50, coef0=0.1, gamma=0.1, kernel=rbf; total time=   1.7s\n",
      "[CV] END .............C=50, coef0=0.1, gamma=0.1, kernel=rbf; total time=   1.7s\n",
      "[CV] END .............C=50, coef0=0.1, gamma=0.1, kernel=rbf; total time=   1.7s\n",
      "[CV] END ............C=50, coef0=0.1, gamma=0.1, kernel=poly; total time=   1.0s\n",
      "[CV] END ............C=50, coef0=0.1, gamma=0.1, kernel=poly; total time=   1.0s\n",
      "[CV] END ............C=50, coef0=0.1, gamma=0.1, kernel=poly; total time=   0.9s\n",
      "[CV] END ............C=50, coef0=0.1, gamma=0.05, kernel=rbf; total time=   1.6s\n",
      "[CV] END ............C=50, coef0=0.1, gamma=0.05, kernel=rbf; total time=   1.6s\n",
      "[CV] END ............C=50, coef0=0.1, gamma=0.05, kernel=rbf; total time=   1.6s\n",
      "[CV] END ...........C=50, coef0=0.1, gamma=0.05, kernel=poly; total time=   1.0s\n",
      "[CV] END ...........C=50, coef0=0.1, gamma=0.05, kernel=poly; total time=   0.9s\n",
      "[CV] END ...........C=50, coef0=0.1, gamma=0.05, kernel=poly; total time=   1.0s\n",
      "[CV] END ............C=50, coef0=0.1, gamma=0.01, kernel=rbf; total time=   1.7s\n",
      "[CV] END ............C=50, coef0=0.1, gamma=0.01, kernel=rbf; total time=   1.7s\n",
      "[CV] END ............C=50, coef0=0.1, gamma=0.01, kernel=rbf; total time=   1.7s\n",
      "[CV] END ...........C=50, coef0=0.1, gamma=0.01, kernel=poly; total time=   0.9s\n",
      "[CV] END ...........C=50, coef0=0.1, gamma=0.01, kernel=poly; total time=   0.9s\n",
      "[CV] END ...........C=50, coef0=0.1, gamma=0.01, kernel=poly; total time=   0.9s\n",
      "[CV] END ...........C=50, coef0=0.1, gamma=0.001, kernel=rbf; total time=   1.2s\n",
      "[CV] END ...........C=50, coef0=0.1, gamma=0.001, kernel=rbf; total time=   1.2s\n",
      "[CV] END ...........C=50, coef0=0.1, gamma=0.001, kernel=rbf; total time=   1.2s\n",
      "[CV] END ..........C=50, coef0=0.1, gamma=0.001, kernel=poly; total time=   0.7s\n",
      "[CV] END ..........C=50, coef0=0.1, gamma=0.001, kernel=poly; total time=   0.7s\n"
     ]
    },
    {
     "name": "stdout",
     "output_type": "stream",
     "text": [
      "[CV] END ..........C=50, coef0=0.1, gamma=0.001, kernel=poly; total time=   0.7s\n",
      "[CV] END ...........C=50, coef0=0.1, gamma=0.002, kernel=rbf; total time=   1.3s\n",
      "[CV] END ...........C=50, coef0=0.1, gamma=0.002, kernel=rbf; total time=   1.4s\n",
      "[CV] END ...........C=50, coef0=0.1, gamma=0.002, kernel=rbf; total time=   1.4s\n",
      "[CV] END ..........C=50, coef0=0.1, gamma=0.002, kernel=poly; total time=   0.7s\n",
      "[CV] END ..........C=50, coef0=0.1, gamma=0.002, kernel=poly; total time=   0.7s\n",
      "[CV] END ..........C=50, coef0=0.1, gamma=0.002, kernel=poly; total time=   0.7s\n",
      "[CV] END ...........C=50, coef0=0.1, gamma=0.005, kernel=rbf; total time=   1.5s\n",
      "[CV] END ...........C=50, coef0=0.1, gamma=0.005, kernel=rbf; total time=   1.6s\n",
      "[CV] END ...........C=50, coef0=0.1, gamma=0.005, kernel=rbf; total time=   1.6s\n",
      "[CV] END ..........C=50, coef0=0.1, gamma=0.005, kernel=poly; total time=   0.7s\n",
      "[CV] END ..........C=50, coef0=0.1, gamma=0.005, kernel=poly; total time=   0.7s\n",
      "[CV] END ..........C=50, coef0=0.1, gamma=0.005, kernel=poly; total time=   0.7s\n"
     ]
    },
    {
     "data": {
      "text/html": [
       "<style>#sk-container-id-1 {color: black;background-color: white;}#sk-container-id-1 pre{padding: 0;}#sk-container-id-1 div.sk-toggleable {background-color: white;}#sk-container-id-1 label.sk-toggleable__label {cursor: pointer;display: block;width: 100%;margin-bottom: 0;padding: 0.3em;box-sizing: border-box;text-align: center;}#sk-container-id-1 label.sk-toggleable__label-arrow:before {content: \"▸\";float: left;margin-right: 0.25em;color: #696969;}#sk-container-id-1 label.sk-toggleable__label-arrow:hover:before {color: black;}#sk-container-id-1 div.sk-estimator:hover label.sk-toggleable__label-arrow:before {color: black;}#sk-container-id-1 div.sk-toggleable__content {max-height: 0;max-width: 0;overflow: hidden;text-align: left;background-color: #f0f8ff;}#sk-container-id-1 div.sk-toggleable__content pre {margin: 0.2em;color: black;border-radius: 0.25em;background-color: #f0f8ff;}#sk-container-id-1 input.sk-toggleable__control:checked~div.sk-toggleable__content {max-height: 200px;max-width: 100%;overflow: auto;}#sk-container-id-1 input.sk-toggleable__control:checked~label.sk-toggleable__label-arrow:before {content: \"▾\";}#sk-container-id-1 div.sk-estimator input.sk-toggleable__control:checked~label.sk-toggleable__label {background-color: #d4ebff;}#sk-container-id-1 div.sk-label input.sk-toggleable__control:checked~label.sk-toggleable__label {background-color: #d4ebff;}#sk-container-id-1 input.sk-hidden--visually {border: 0;clip: rect(1px 1px 1px 1px);clip: rect(1px, 1px, 1px, 1px);height: 1px;margin: -1px;overflow: hidden;padding: 0;position: absolute;width: 1px;}#sk-container-id-1 div.sk-estimator {font-family: monospace;background-color: #f0f8ff;border: 1px dotted black;border-radius: 0.25em;box-sizing: border-box;margin-bottom: 0.5em;}#sk-container-id-1 div.sk-estimator:hover {background-color: #d4ebff;}#sk-container-id-1 div.sk-parallel-item::after {content: \"\";width: 100%;border-bottom: 1px solid gray;flex-grow: 1;}#sk-container-id-1 div.sk-label:hover label.sk-toggleable__label {background-color: #d4ebff;}#sk-container-id-1 div.sk-serial::before {content: \"\";position: absolute;border-left: 1px solid gray;box-sizing: border-box;top: 0;bottom: 0;left: 50%;z-index: 0;}#sk-container-id-1 div.sk-serial {display: flex;flex-direction: column;align-items: center;background-color: white;padding-right: 0.2em;padding-left: 0.2em;position: relative;}#sk-container-id-1 div.sk-item {position: relative;z-index: 1;}#sk-container-id-1 div.sk-parallel {display: flex;align-items: stretch;justify-content: center;background-color: white;position: relative;}#sk-container-id-1 div.sk-item::before, #sk-container-id-1 div.sk-parallel-item::before {content: \"\";position: absolute;border-left: 1px solid gray;box-sizing: border-box;top: 0;bottom: 0;left: 50%;z-index: -1;}#sk-container-id-1 div.sk-parallel-item {display: flex;flex-direction: column;z-index: 1;position: relative;background-color: white;}#sk-container-id-1 div.sk-parallel-item:first-child::after {align-self: flex-end;width: 50%;}#sk-container-id-1 div.sk-parallel-item:last-child::after {align-self: flex-start;width: 50%;}#sk-container-id-1 div.sk-parallel-item:only-child::after {width: 0;}#sk-container-id-1 div.sk-dashed-wrapped {border: 1px dashed gray;margin: 0 0.4em 0.5em 0.4em;box-sizing: border-box;padding-bottom: 0.4em;background-color: white;}#sk-container-id-1 div.sk-label label {font-family: monospace;font-weight: bold;display: inline-block;line-height: 1.2em;}#sk-container-id-1 div.sk-label-container {text-align: center;}#sk-container-id-1 div.sk-container {/* jupyter's `normalize.less` sets `[hidden] { display: none; }` but bootstrap.min.css set `[hidden] { display: none !important; }` so we also need the `!important` here to be able to override the default hidden behavior on the sphinx rendered scikit-learn.org. See: https://github.com/scikit-learn/scikit-learn/issues/21755 */display: inline-block !important;position: relative;}#sk-container-id-1 div.sk-text-repr-fallback {display: none;}</style><div id=\"sk-container-id-1\" class=\"sk-top-container\"><div class=\"sk-text-repr-fallback\"><pre>GridSearchCV(cv=3, estimator=SVC(probability=True),\n",
       "             param_grid={&#x27;C&#x27;: [0.5, 1, 10, 20, 30, 50], &#x27;coef0&#x27;: [0.1],\n",
       "                         &#x27;gamma&#x27;: [0.1, 0.05, 0.01, 0.001, 0.002, 0.005],\n",
       "                         &#x27;kernel&#x27;: [&#x27;rbf&#x27;, &#x27;poly&#x27;]},\n",
       "             scoring=&#x27;accuracy&#x27;, verbose=2)</pre><b>In a Jupyter environment, please rerun this cell to show the HTML representation or trust the notebook. <br />On GitHub, the HTML representation is unable to render, please try loading this page with nbviewer.org.</b></div><div class=\"sk-container\" hidden><div class=\"sk-item sk-dashed-wrapped\"><div class=\"sk-label-container\"><div class=\"sk-label sk-toggleable\"><input class=\"sk-toggleable__control sk-hidden--visually\" id=\"sk-estimator-id-1\" type=\"checkbox\" ><label for=\"sk-estimator-id-1\" class=\"sk-toggleable__label sk-toggleable__label-arrow\">GridSearchCV</label><div class=\"sk-toggleable__content\"><pre>GridSearchCV(cv=3, estimator=SVC(probability=True),\n",
       "             param_grid={&#x27;C&#x27;: [0.5, 1, 10, 20, 30, 50], &#x27;coef0&#x27;: [0.1],\n",
       "                         &#x27;gamma&#x27;: [0.1, 0.05, 0.01, 0.001, 0.002, 0.005],\n",
       "                         &#x27;kernel&#x27;: [&#x27;rbf&#x27;, &#x27;poly&#x27;]},\n",
       "             scoring=&#x27;accuracy&#x27;, verbose=2)</pre></div></div></div><div class=\"sk-parallel\"><div class=\"sk-parallel-item\"><div class=\"sk-item\"><div class=\"sk-label-container\"><div class=\"sk-label sk-toggleable\"><input class=\"sk-toggleable__control sk-hidden--visually\" id=\"sk-estimator-id-2\" type=\"checkbox\" ><label for=\"sk-estimator-id-2\" class=\"sk-toggleable__label sk-toggleable__label-arrow\">estimator: SVC</label><div class=\"sk-toggleable__content\"><pre>SVC(probability=True)</pre></div></div></div><div class=\"sk-serial\"><div class=\"sk-item\"><div class=\"sk-estimator sk-toggleable\"><input class=\"sk-toggleable__control sk-hidden--visually\" id=\"sk-estimator-id-3\" type=\"checkbox\" ><label for=\"sk-estimator-id-3\" class=\"sk-toggleable__label sk-toggleable__label-arrow\">SVC</label><div class=\"sk-toggleable__content\"><pre>SVC(probability=True)</pre></div></div></div></div></div></div></div></div></div></div>"
      ],
      "text/plain": [
       "GridSearchCV(cv=3, estimator=SVC(probability=True),\n",
       "             param_grid={'C': [0.5, 1, 10, 20, 30, 50], 'coef0': [0.1],\n",
       "                         'gamma': [0.1, 0.05, 0.01, 0.001, 0.002, 0.005],\n",
       "                         'kernel': ['rbf', 'poly']},\n",
       "             scoring='accuracy', verbose=2)"
      ]
     },
     "execution_count": 12,
     "metadata": {},
     "output_type": "execute_result"
    }
   ],
   "source": [
    "model_grid.fit(x_train, y_train)"
   ]
  },
  {
   "cell_type": "code",
   "execution_count": 13,
   "id": "7369cb91",
   "metadata": {},
   "outputs": [
    {
     "data": {
      "text/plain": [
       "{'C': 10, 'coef0': 0.1, 'gamma': 0.01, 'kernel': 'poly'}"
      ]
     },
     "execution_count": 13,
     "metadata": {},
     "output_type": "execute_result"
    }
   ],
   "source": [
    "model_grid.best_params_"
   ]
  },
  {
   "cell_type": "code",
   "execution_count": 18,
   "id": "3a79118e",
   "metadata": {},
   "outputs": [],
   "source": [
    "model_final = model_grid.best_estimator_"
   ]
  },
  {
   "cell_type": "code",
   "execution_count": 19,
   "id": "c1c1b166",
   "metadata": {},
   "outputs": [
    {
     "data": {
      "text/plain": [
       "{'C': 10,\n",
       " 'break_ties': False,\n",
       " 'cache_size': 200,\n",
       " 'class_weight': None,\n",
       " 'coef0': 0.1,\n",
       " 'decision_function_shape': 'ovr',\n",
       " 'degree': 3,\n",
       " 'gamma': 0.01,\n",
       " 'kernel': 'poly',\n",
       " 'max_iter': -1,\n",
       " 'probability': True,\n",
       " 'random_state': None,\n",
       " 'shrinking': True,\n",
       " 'tol': 0.001,\n",
       " 'verbose': False}"
      ]
     },
     "execution_count": 19,
     "metadata": {},
     "output_type": "execute_result"
    }
   ],
   "source": [
    "model_final.get_params()"
   ]
  },
  {
   "cell_type": "code",
   "execution_count": 20,
   "id": "dfea9ff3",
   "metadata": {},
   "outputs": [],
   "source": [
    "y_pred = model_final.predict(x_test) #predicted values"
   ]
  },
  {
   "cell_type": "code",
   "execution_count": 21,
   "id": "f81db6a2",
   "metadata": {},
   "outputs": [
    {
     "data": {
      "text/plain": [
       "array(['male', 'male', 'female', 'female', 'female', 'female', 'female',\n",
       "       'male', 'female', 'female', 'female', 'male', 'female', 'male',\n",
       "       'female', 'female', 'male', 'male', 'male', 'female', 'female',\n",
       "       'female', 'female', 'female', 'female', 'male', 'male', 'male',\n",
       "       'female', 'male', 'female', 'male', 'female', 'female', 'female',\n",
       "       'female', 'male', 'female', 'female', 'male', 'female', 'female',\n",
       "       'male', 'male', 'male', 'male', 'female', 'male', 'female', 'male',\n",
       "       'female', 'female', 'female', 'male', 'female', 'male', 'male',\n",
       "       'female', 'female', 'female', 'female', 'female', 'male', 'male',\n",
       "       'male', 'male', 'female', 'female', 'male', 'male', 'female',\n",
       "       'female', 'male', 'male', 'male', 'female', 'female', 'female',\n",
       "       'female', 'female', 'female', 'male', 'male', 'female', 'female',\n",
       "       'male', 'female', 'female', 'female', 'male', 'female', 'female',\n",
       "       'male', 'male', 'female', 'female', 'male', 'female', 'male',\n",
       "       'female', 'male', 'female', 'male', 'male', 'female', 'male',\n",
       "       'male', 'male', 'female', 'female', 'male', 'female', 'male',\n",
       "       'male', 'female', 'male', 'female', 'male', 'male', 'male',\n",
       "       'female', 'male', 'female', 'female', 'male', 'female', 'male',\n",
       "       'male', 'female', 'male', 'female', 'male', 'female', 'male',\n",
       "       'female', 'male', 'male', 'male', 'female', 'male', 'male',\n",
       "       'female', 'male', 'female', 'male', 'female', 'female', 'female',\n",
       "       'female', 'female', 'female', 'female', 'female', 'female',\n",
       "       'female', 'female', 'male', 'female', 'female', 'female', 'male',\n",
       "       'female', 'female', 'female', 'male', 'male', 'female', 'female',\n",
       "       'male', 'female', 'male', 'female', 'female', 'female', 'male',\n",
       "       'female', 'male', 'female', 'female', 'male', 'female', 'male',\n",
       "       'female', 'male', 'female', 'male', 'female', 'female', 'male',\n",
       "       'female', 'female', 'male', 'male', 'female', 'female', 'male',\n",
       "       'female', 'male', 'male', 'female', 'male', 'female', 'female',\n",
       "       'male', 'female', 'male', 'male', 'male', 'female', 'female',\n",
       "       'female', 'male', 'male', 'female', 'male', 'female', 'female',\n",
       "       'female', 'female', 'female', 'male', 'female', 'female', 'male',\n",
       "       'male', 'male', 'male', 'female', 'male', 'female', 'female',\n",
       "       'female', 'female', 'female', 'male', 'male', 'female', 'male',\n",
       "       'male', 'female', 'female', 'female', 'female', 'female', 'female',\n",
       "       'female', 'female', 'male', 'female', 'male', 'female', 'male',\n",
       "       'male', 'female', 'female', 'male', 'female', 'female', 'female',\n",
       "       'female', 'female', 'male', 'female', 'female', 'female', 'female',\n",
       "       'female', 'male', 'male', 'female', 'male', 'male', 'male', 'male',\n",
       "       'male', 'female', 'male', 'male', 'male', 'male', 'female', 'male',\n",
       "       'male', 'female', 'male', 'male', 'male', 'female', 'female',\n",
       "       'female', 'female', 'female', 'female', 'male', 'female', 'female',\n",
       "       'male', 'male', 'female', 'male', 'female', 'male', 'female',\n",
       "       'female', 'female', 'female', 'female', 'female', 'male', 'female',\n",
       "       'female', 'female', 'female', 'male', 'male', 'female', 'male',\n",
       "       'male', 'male', 'female', 'male', 'male', 'female', 'male', 'male',\n",
       "       'female', 'female', 'female', 'female', 'female', 'male', 'male',\n",
       "       'female', 'female', 'male', 'female', 'female', 'male', 'male',\n",
       "       'female', 'male', 'female', 'female', 'male', 'male', 'male',\n",
       "       'female', 'female', 'female', 'female', 'female', 'male', 'female',\n",
       "       'female', 'female', 'male', 'male', 'female', 'male', 'female',\n",
       "       'female', 'male', 'male', 'female', 'male', 'male', 'female',\n",
       "       'male', 'male', 'male', 'male', 'female', 'female', 'female',\n",
       "       'male', 'male', 'male', 'female', 'male', 'male', 'female',\n",
       "       'female', 'female', 'male', 'female', 'female', 'male', 'male',\n",
       "       'female', 'male', 'female', 'female', 'female', 'male', 'female',\n",
       "       'male', 'male', 'male', 'female', 'female', 'female', 'female',\n",
       "       'female', 'male', 'male', 'male', 'female', 'female', 'female',\n",
       "       'female', 'male', 'male', 'female', 'male', 'male', 'male',\n",
       "       'female', 'female', 'female', 'female', 'female', 'female', 'male',\n",
       "       'male', 'male', 'male', 'female', 'male', 'female', 'female',\n",
       "       'female', 'male', 'female', 'male', 'female', 'male', 'male',\n",
       "       'female', 'female', 'female', 'female', 'male', 'female', 'female',\n",
       "       'female', 'female', 'male', 'female', 'female', 'male', 'male',\n",
       "       'female', 'male', 'male', 'female', 'female', 'male', 'male',\n",
       "       'male', 'female', 'female', 'female', 'male', 'female', 'male',\n",
       "       'female', 'male', 'male', 'male', 'female', 'male', 'male',\n",
       "       'female', 'male', 'male', 'female', 'female', 'female', 'male',\n",
       "       'female', 'male', 'male', 'female', 'male', 'male', 'male', 'male',\n",
       "       'male', 'female', 'male', 'female', 'female', 'male', 'female',\n",
       "       'female', 'female', 'female', 'male', 'female', 'male', 'female',\n",
       "       'male', 'female', 'male', 'male', 'female', 'female', 'female',\n",
       "       'female', 'female', 'female', 'female', 'male', 'female', 'female',\n",
       "       'female', 'female', 'male', 'male', 'male', 'male', 'female',\n",
       "       'male', 'male', 'male', 'female', 'male', 'female', 'female',\n",
       "       'female', 'male', 'male', 'female', 'male', 'female', 'male',\n",
       "       'female', 'male', 'male', 'female', 'male', 'female', 'female',\n",
       "       'female', 'female', 'male', 'male', 'female', 'male', 'male',\n",
       "       'male', 'female', 'male', 'male', 'female', 'female', 'female',\n",
       "       'male', 'female', 'male', 'male', 'male', 'male', 'male', 'female',\n",
       "       'female', 'female', 'female', 'male', 'male', 'male', 'female',\n",
       "       'female', 'female', 'female', 'male', 'female', 'male', 'female',\n",
       "       'male', 'male', 'female', 'male', 'male', 'female', 'female',\n",
       "       'male', 'male', 'female', 'female', 'female', 'female', 'female',\n",
       "       'female', 'female', 'male', 'female', 'female', 'female', 'male',\n",
       "       'female', 'female', 'male', 'female', 'female', 'female', 'female',\n",
       "       'female', 'female', 'male', 'female', 'male', 'female', 'male',\n",
       "       'male', 'female', 'male', 'female', 'female', 'female', 'male',\n",
       "       'male', 'female', 'female', 'male', 'female', 'female', 'male',\n",
       "       'female', 'male', 'female', 'female', 'female', 'male', 'female',\n",
       "       'male', 'female', 'male', 'male', 'male', 'female', 'male',\n",
       "       'female', 'male', 'female', 'female', 'male', 'female', 'male',\n",
       "       'female', 'female', 'male', 'male', 'male', 'male', 'female',\n",
       "       'male', 'female', 'female', 'female', 'female', 'male', 'male',\n",
       "       'female', 'female', 'female', 'female', 'female', 'female', 'male',\n",
       "       'male', 'female', 'female', 'male', 'female', 'female', 'female',\n",
       "       'female', 'male', 'female', 'female', 'male', 'male', 'female',\n",
       "       'male', 'male', 'female', 'female', 'male', 'female', 'male',\n",
       "       'female', 'female', 'female', 'female', 'female', 'male', 'female',\n",
       "       'female', 'male', 'male', 'female', 'male', 'male', 'female',\n",
       "       'male', 'male', 'female', 'female', 'male', 'female', 'female',\n",
       "       'male', 'male', 'male', 'female', 'female', 'female', 'male',\n",
       "       'male', 'female', 'female', 'female', 'male', 'male', 'female',\n",
       "       'male', 'female', 'male', 'male', 'male', 'female', 'female',\n",
       "       'female', 'male', 'female', 'male', 'female', 'female', 'female',\n",
       "       'male', 'male', 'female', 'female', 'female', 'female', 'female',\n",
       "       'female', 'male', 'female', 'male', 'female', 'female', 'female',\n",
       "       'male', 'male', 'male', 'male', 'female', 'female', 'male',\n",
       "       'female', 'female', 'male', 'female', 'female', 'male', 'female',\n",
       "       'female', 'male', 'female', 'female', 'female', 'male', 'male',\n",
       "       'female', 'female', 'male', 'female', 'female', 'female', 'female',\n",
       "       'female', 'female', 'female', 'female', 'male', 'female', 'male',\n",
       "       'female', 'female', 'male', 'male', 'male', 'male', 'female',\n",
       "       'male', 'male', 'female', 'male', 'female', 'male', 'female',\n",
       "       'female', 'male', 'female', 'female', 'female', 'male', 'male',\n",
       "       'male', 'female', 'male', 'male', 'female', 'male', 'female',\n",
       "       'male', 'female', 'male', 'female', 'female', 'female', 'female',\n",
       "       'female', 'male', 'male', 'male', 'female', 'female', 'male',\n",
       "       'female', 'female', 'female', 'female', 'male', 'male', 'female',\n",
       "       'female', 'female', 'female', 'male', 'female', 'female', 'female',\n",
       "       'male', 'female', 'female', 'female', 'female', 'female', 'male',\n",
       "       'female', 'female', 'male', 'female', 'male', 'male', 'female',\n",
       "       'female', 'male', 'female', 'female', 'female'], dtype=object)"
      ]
     },
     "execution_count": 21,
     "metadata": {},
     "output_type": "execute_result"
    }
   ],
   "source": [
    "y_pred"
   ]
  },
  {
   "cell_type": "markdown",
   "id": "91894f4c",
   "metadata": {},
   "source": [
    "**Classification Report**"
   ]
  },
  {
   "cell_type": "code",
   "execution_count": 22,
   "id": "051571cc",
   "metadata": {},
   "outputs": [
    {
     "data": {
      "text/html": [
       "<div>\n",
       "<style scoped>\n",
       "    .dataframe tbody tr th:only-of-type {\n",
       "        vertical-align: middle;\n",
       "    }\n",
       "\n",
       "    .dataframe tbody tr th {\n",
       "        vertical-align: top;\n",
       "    }\n",
       "\n",
       "    .dataframe thead th {\n",
       "        text-align: right;\n",
       "    }\n",
       "</style>\n",
       "<table border=\"1\" class=\"dataframe\">\n",
       "  <thead>\n",
       "    <tr style=\"text-align: right;\">\n",
       "      <th></th>\n",
       "      <th>precision</th>\n",
       "      <th>recall</th>\n",
       "      <th>f1-score</th>\n",
       "      <th>support</th>\n",
       "    </tr>\n",
       "  </thead>\n",
       "  <tbody>\n",
       "    <tr>\n",
       "      <th>female</th>\n",
       "      <td>0.810976</td>\n",
       "      <td>0.836478</td>\n",
       "      <td>0.823529</td>\n",
       "      <td>477.000000</td>\n",
       "    </tr>\n",
       "    <tr>\n",
       "      <th>male</th>\n",
       "      <td>0.790323</td>\n",
       "      <td>0.759690</td>\n",
       "      <td>0.774704</td>\n",
       "      <td>387.000000</td>\n",
       "    </tr>\n",
       "    <tr>\n",
       "      <th>accuracy</th>\n",
       "      <td>0.802083</td>\n",
       "      <td>0.802083</td>\n",
       "      <td>0.802083</td>\n",
       "      <td>0.802083</td>\n",
       "    </tr>\n",
       "    <tr>\n",
       "      <th>macro avg</th>\n",
       "      <td>0.800649</td>\n",
       "      <td>0.798084</td>\n",
       "      <td>0.799116</td>\n",
       "      <td>864.000000</td>\n",
       "    </tr>\n",
       "    <tr>\n",
       "      <th>weighted avg</th>\n",
       "      <td>0.801725</td>\n",
       "      <td>0.802083</td>\n",
       "      <td>0.801659</td>\n",
       "      <td>864.000000</td>\n",
       "    </tr>\n",
       "  </tbody>\n",
       "</table>\n",
       "</div>"
      ],
      "text/plain": [
       "              precision    recall  f1-score     support\n",
       "female         0.810976  0.836478  0.823529  477.000000\n",
       "male           0.790323  0.759690  0.774704  387.000000\n",
       "accuracy       0.802083  0.802083  0.802083    0.802083\n",
       "macro avg      0.800649  0.798084  0.799116  864.000000\n",
       "weighted avg   0.801725  0.802083  0.801659  864.000000"
      ]
     },
     "execution_count": 22,
     "metadata": {},
     "output_type": "execute_result"
    }
   ],
   "source": [
    "cr = metrics.classification_report(y_test, y_pred, output_dict=True)\n",
    "pd.DataFrame(cr).T"
   ]
  },
  {
   "cell_type": "markdown",
   "id": "6146417b",
   "metadata": {},
   "source": [
    "**Kappa Score**"
   ]
  },
  {
   "cell_type": "code",
   "execution_count": 23,
   "id": "bc283a30",
   "metadata": {},
   "outputs": [
    {
     "data": {
      "text/plain": [
       "0.5983558426306518"
      ]
     },
     "execution_count": 23,
     "metadata": {},
     "output_type": "execute_result"
    }
   ],
   "source": [
    "metrics.cohen_kappa_score(y_test, y_pred)"
   ]
  },
  {
   "cell_type": "markdown",
   "id": "316c8888",
   "metadata": {},
   "source": [
    "**Area Under Curve(AUC)**"
   ]
  },
  {
   "cell_type": "code",
   "execution_count": 27,
   "id": "a2bfc638",
   "metadata": {},
   "outputs": [
    {
     "data": {
      "text/plain": [
       "0.7980839549510019"
      ]
     },
     "execution_count": 27,
     "metadata": {},
     "output_type": "execute_result"
    }
   ],
   "source": [
    "metrics.roc_auc_score(np.where(y_test==\"male\",1,0),np.where(y_pred==\"male\",1,0))"
   ]
  },
  {
   "cell_type": "markdown",
   "id": "7f2d3ee5",
   "metadata": {},
   "source": [
    "### Save Face Recognition Model"
   ]
  },
  {
   "cell_type": "code",
   "execution_count": 28,
   "id": "2262ec33",
   "metadata": {},
   "outputs": [],
   "source": [
    "import pickle"
   ]
  },
  {
   "cell_type": "code",
   "execution_count": 29,
   "id": "9fb3d847",
   "metadata": {},
   "outputs": [],
   "source": [
    "pickle.dump(model_final, open('./model/model_svm.pickle', mode='wb'))"
   ]
  }
 ],
 "metadata": {
  "kernelspec": {
   "display_name": "Python 3 (ipykernel)",
   "language": "python",
   "name": "python3"
  },
  "language_info": {
   "codemirror_mode": {
    "name": "ipython",
    "version": 3
   },
   "file_extension": ".py",
   "mimetype": "text/x-python",
   "name": "python",
   "nbconvert_exporter": "python",
   "pygments_lexer": "ipython3",
   "version": "3.8.5"
  }
 },
 "nbformat": 4,
 "nbformat_minor": 5
}
